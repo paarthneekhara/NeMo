{
 "cells": [
  {
   "cell_type": "code",
   "execution_count": null,
   "id": "8423d079",
   "metadata": {},
   "outputs": [],
   "source": [
    "import os\n",
    "import numpy as np\n",
    "%matplotlib inline\n",
    "import numpy as np\n",
    "import matplotlib.patches as mpatches\n",
    "from sklearn.manifold import TSNE\n",
    "from sklearn.decomposition import PCA\n",
    "import pylab as plt\n",
    "import matplotlib.patches as mpatches\n",
    "import json\n",
    "from sklearn.cluster import DBSCAN\n",
    "from sklearn.cluster import SpectralClustering\n",
    "from sklearn.cluster import AgglomerativeClustering\n",
    "from sklearn import metrics\n",
    "from sklearn.datasets import make_blobs\n",
    "from sklearn.preprocessing import StandardScaler\n"
   ]
  },
  {
   "cell_type": "code",
   "execution_count": null,
   "id": "2be30aae",
   "metadata": {},
   "outputs": [],
   "source": [
    "emb_dir = \"/home/pneekhara/SpeakerEmbeddings\"\n",
    "embeddings = {}\n",
    "filenames = {}\n",
    "for subdir in os.listdir(emb_dir):\n",
    "    subdir_path = os.path.join(emb_dir, subdir)\n",
    "    for file in os.listdir(subdir_path):\n",
    "        if file.endswith(\".npy\"):\n",
    "            with open(os.path.join(subdir_path, file), \"rb\") as f:\n",
    "                embedding = np.load(f)\n",
    "                #subdir_name, fname = file.split(\"-\")\n",
    "                #subdir_name = subdir_name + \" \" + fname.split(\"_\")[0]\n",
    "                if subdir in embeddings:\n",
    "                    embeddings[subdir].append( embedding )\n",
    "                    filenames[subdir].append( file )\n",
    "                else:\n",
    "                    embeddings[subdir] = [ embedding ]\n",
    "                    filenames[subdir] = [ file ]\n",
    "print (len(embeddings['9017']))"
   ]
  },
  {
   "cell_type": "code",
   "execution_count": null,
   "id": "d65431b5",
   "metadata": {},
   "outputs": [],
   "source": [
    "def mscatter(x,y, ax=None, m=None, **kw):\n",
    "    import matplotlib.markers as mmarkers\n",
    "    #ax = ax or plt.gca()\n",
    "    sc = ax.scatter(x,y,**kw)\n",
    "    if (m is not None) and (len(m)==len(x)):\n",
    "        paths = []\n",
    "        for marker in m:\n",
    "            if isinstance(marker, mmarkers.MarkerStyle):\n",
    "                marker_obj = marker\n",
    "            else:\n",
    "                marker_obj = mmarkers.MarkerStyle(marker)\n",
    "            path = marker_obj.get_path().transformed(\n",
    "                        marker_obj.get_transform())\n",
    "            paths.append(path)\n",
    "        sc.set_paths(paths)\n",
    "    return sc\n",
    "\n",
    "def visualize_embeddings(embedding_dict_np, filenames, title = \"TSNE\", max_num_samples_per_spk = 1000):\n",
    "    # extract num_speakers 10. With new speaker key will have num_speakers+1 speakers in the TSNE plot\n",
    "    # keys = []\n",
    "    label_list =[]\n",
    "    color =[]\n",
    "    marker_shape = []\n",
    "    color_idx = 0\n",
    "    universal_embed_list=[]\n",
    "    handle_list=[]\n",
    "    _unique_speakers = {}\n",
    "    \n",
    "    marker_list = ['<', '*', 'h', 'X', 's', 'H', 'D', 'd', 'P', 'v', '^', '>', '8', 'p']\n",
    "    kidx = 0\n",
    "    \n",
    "    filenames_labelled = []\n",
    "    for key in embedding_dict_np:\n",
    "        speaker = key\n",
    "        \n",
    "        _num_samples = len(embedding_dict_np[key])\n",
    "        if max_num_samples_per_spk is not None:\n",
    "            _num_samples = min(len(embedding_dict_np[key]), max_num_samples_per_spk)\n",
    "            \n",
    "        \n",
    "        universal_embed_list += embedding_dict_np[key][:_num_samples]\n",
    "        filenames_labelled += [ (fname, None) for fname in filenames[key][:_num_samples] ]\n",
    "        \n",
    "        print('key:', key, 'length', len(embedding_dict_np[key]))\n",
    "        \n",
    "        #id_color = plt.cm.tab20(_unique_speakers[speaker])\n",
    "        id_color = plt.cm.tab20(kidx)\n",
    "        color_element = [id_color] * _num_samples\n",
    "        color += color_element\n",
    "        _marker_shape = [ \"o\" ] * _num_samples\n",
    "        marker_shape += _marker_shape\n",
    "        _label = key\n",
    "        handle_list.append(mpatches.Patch(color = id_color, label=_label))\n",
    "        \n",
    "        kidx += 1\n",
    "        \n",
    "   \n",
    "    print (\"fitting tsne\")\n",
    "    speaker_embeddings = TSNE(n_components=2, random_state=0).fit_transform(universal_embed_list)\n",
    "    speaker_embeddings = StandardScaler().fit_transform(speaker_embeddings)\n",
    "    print (speaker_embeddings.shape)\n",
    "#     db = SpectralClustering(assign_labels='discretize', n_clusters=2,random_state=0).fit(speaker_embeddings)\n",
    "    db = AgglomerativeClustering(n_clusters=2, linkage='single').fit(speaker_embeddings)\n",
    "    labels = db.labels_\n",
    "    filenames_labelled = [ (filenames_labelled[lidx][0], labels[lidx]) for lidx in range(len(labels))]\n",
    "    #print (len(labels), labels)\n",
    "    color = [plt.cm.tab20(label) for label in labels]\n",
    "    \n",
    "    plt.rcParams[\"figure.figsize\"] = (12, 12)\n",
    "    #fig = plt.figure(figsize=(12, 12))\n",
    "    #fig.add_subplot(121)\n",
    "    #ax = plt.axes()\n",
    "    #ax.set_facecolor(\"gainsboro\")\n",
    "    #plt.scatter(speaker_embeddings[:, 0], speaker_embeddings[:, 1], marker = marker_shape,  c=color, s=30)\n",
    "    mscatter(speaker_embeddings[:, 0], speaker_embeddings[:, 1], plt, m = marker_shape,  c=color, s=10)\n",
    "   \n",
    "    plt.legend(handles=handle_list,title=\"Chapter ID\")\n",
    "    plt.title(title)\n",
    "    \n",
    "    return filenames_labelled"
   ]
  },
  {
   "cell_type": "code",
   "execution_count": null,
   "id": "25f6c0a2",
   "metadata": {
    "scrolled": true
   },
   "outputs": [],
   "source": [
    "filenames_labelled = visualize_embeddings( { '9017' : embeddings['9017'] } , filenames, max_num_samples_per_spk = None)"
   ]
  },
  {
   "cell_type": "code",
   "execution_count": null,
   "id": "04263374",
   "metadata": {},
   "outputs": [],
   "source": [
    "def filename_to_wav_path(filename):\n",
    "    base_path = \"/home/pneekhara/Datasets/78419/Hi_Fi_TTS_v_0_backup/wav/9017_clean\"\n",
    "    chapter_id, wavname = filename.split(\"-\")\n",
    "    wavname = wavname.replace(\".npy\", \".wav\")\n",
    "    wavdir = os.path.join(base_path, chapter_id)\n",
    "    wavpath = os.path.join(wavdir, wavname)\n",
    "    return wavpath\n",
    "    "
   ]
  },
  {
   "cell_type": "code",
   "execution_count": null,
   "id": "43eee6a9",
   "metadata": {},
   "outputs": [],
   "source": [
    "grouped_files = {0 : [], 1: []}\n",
    "for fname_label in filenames_labelled:\n",
    "    grouped_files[fname_label[1]].append(fname_label[0])"
   ]
  },
  {
   "cell_type": "code",
   "execution_count": null,
   "id": "691a8e8f",
   "metadata": {},
   "outputs": [],
   "source": [
    "import IPython.display as ipd\n",
    "\n",
    "for label in [0,1]:\n",
    "    print (\"**************\")\n",
    "    print (\"Cluster {}\".format(label))\n",
    "    for fidx in range(10):\n",
    "        wav_path = filename_to_wav_path(grouped_files[label][fidx])\n",
    "        ipd.display(ipd.Audio(wav_path, rate=44100))"
   ]
  },
  {
   "cell_type": "code",
   "execution_count": null,
   "id": "5484bb6a",
   "metadata": {},
   "outputs": [],
   "source": [
    "for key in grouped_files:\n",
    "    print (key, len(grouped_files[key]))"
   ]
  },
  {
   "cell_type": "code",
   "execution_count": null,
   "id": "a7b11b71",
   "metadata": {},
   "outputs": [],
   "source": []
  }
 ],
 "metadata": {
  "kernelspec": {
   "display_name": "nemoenv",
   "language": "python",
   "name": "nemoenv"
  },
  "language_info": {
   "codemirror_mode": {
    "name": "ipython",
    "version": 3
   },
   "file_extension": ".py",
   "mimetype": "text/x-python",
   "name": "python",
   "nbconvert_exporter": "python",
   "pygments_lexer": "ipython3",
   "version": "3.8.5"
  }
 },
 "nbformat": 4,
 "nbformat_minor": 5
}
