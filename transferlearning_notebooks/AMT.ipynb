{
 "cells": [
  {
   "cell_type": "code",
   "execution_count": null,
   "id": "3b3b0045",
   "metadata": {},
   "outputs": [],
   "source": [
    "import os\n",
    "import IPython.display as ipd\n",
    "import librosa\n",
    "all_files = os.listdir(\"/home/pneekhara/synthesized_samples_FINAL\")\n",
    "wav_files = []\n",
    "for file in all_files:\n",
    "    if file.endswith(\".wav\"):\n",
    "        wav_files.append(file)\n",
    "\n",
    "csv_str = \"audio_url\\n\"\n",
    "audio_apths = []\n",
    "for file in wav_files:\n",
    "#     print(file)\n",
    "    if \"real_vocoded\" in file:\n",
    "        continue\n",
    "    if \"baseline_originalModel\" in file:\n",
    "        continue\n",
    "    if \"synthesizedForceAlignment\" in file:\n",
    "        continue\n",
    "    if \"originalModel_ForceAlignment\" in file:\n",
    "        continue\n",
    "    if \"_6097_\" in file or \"_92_\" in file:\n",
    "        duration = librosa.get_duration(filename=os.path.join(\"/home/pneekhara/synthesized_samples_FINAL\", file))\n",
    "        #print(file, duration)\n",
    "        if duration > 1:\n",
    "            csv_str += \"https://expressivecloning.s3.us-east-2.amazonaws.com/transferlearning/naturalness/{}\\n\".format(file)    \n",
    "            audio_apths.append( os.path.join(\"/home/pneekhara/synthesized_samples_FINAL\", file))\n",
    "        \n",
    "csv_str = csv_str[:-1]\n",
    "\n",
    "# print(csv_str)\n",
    "print(len(csv_str.split(\"\\n\")))\n",
    "\n",
    "with open(\"naturalness_trials.csv\", 'w') as f:\n",
    "    f.write(csv_str)"
   ]
  },
  {
   "cell_type": "code",
   "execution_count": null,
   "id": "83a70c22",
   "metadata": {},
   "outputs": [],
   "source": [
    "audio_apths[:1]"
   ]
  },
  {
   "cell_type": "code",
   "execution_count": null,
   "id": "ae575389",
   "metadata": {},
   "outputs": [],
   "source": [
    "\n",
    "# for path in audio_apths[0:10]:\n",
    "#     print (path)\n",
    "#     ipd.display(ipd.Audio(path))"
   ]
  },
  {
   "cell_type": "code",
   "execution_count": null,
   "id": "6a812c6a",
   "metadata": {
    "scrolled": false
   },
   "outputs": [],
   "source": [
    "import csv\n",
    "import numpy as np\n",
    "stats = {}\n",
    "with open('Batch_4556564_batch_results (1).csv', newline='') as csvfile:\n",
    "    reader = csv.DictReader(csvfile)\n",
    "    for row in reader:\n",
    "        url = row['Input.audio_url']\n",
    "        for possible_rating in [1.0, 1.5, 2.0, 2.5, 3.0, 3.5, 4.0, 4.5, 5.0]:\n",
    "            column_name = \"Answer.{}.{}\".format(possible_rating, possible_rating)\n",
    "            if row[column_name] == \"true\":\n",
    "                rating = possible_rating\n",
    "        audio_type, method, speaker, fno = url.split(\"/\")[-1].split(\"_\")\n",
    "        key = \"{}_{}_{}\".format(audio_type, method, speaker)\n",
    "        if key in stats:\n",
    "            stats[key].append(rating)\n",
    "        else:\n",
    "            stats[key] = [rating]\n",
    "\n",
    "for speaker in [92, 6097]:\n",
    "    for audio_type in [\"real\", \"synthesized\"]:\n",
    "        \n",
    "        for finetuning_duration in [1, 5, 30, 60, 'All']:\n",
    "            for mix_str in [\"nomix\", \"mix\"]:\n",
    "                if audio_type == \"real\":\n",
    "                    if finetuning_duration == \"All\" and mix_str == \"nomix\":\n",
    "                        key = \"real_actual_{}\".format(speaker)\n",
    "                        mean_rating, std = np.mean(stats[key]), np.std(stats[key])\n",
    "                        print (key, round(float(mean_rating),3), std)\n",
    "                else:\n",
    "                    if finetuning_duration == 'All' and mix_str == \"mix\":\n",
    "                        continue\n",
    "                    key = \"{}_{}-{}_{}\".format(audio_type, finetuning_duration, mix_str, speaker)\n",
    "                    mean_rating, std = np.mean(stats[key]), np.std(stats[key])\n",
    "                    print (key, round(float(mean_rating),3), std)\n",
    "        \n",
    "            \n",
    "    \n",
    "    \n",
    "        "
   ]
  },
  {
   "cell_type": "code",
   "execution_count": null,
   "id": "fa1ec6b8",
   "metadata": {},
   "outputs": [],
   "source": []
  }
 ],
 "metadata": {
  "kernelspec": {
   "display_name": "nemoenv",
   "language": "python",
   "name": "nemoenv"
  },
  "language_info": {
   "codemirror_mode": {
    "name": "ipython",
    "version": 3
   },
   "file_extension": ".py",
   "mimetype": "text/x-python",
   "name": "python",
   "nbconvert_exporter": "python",
   "pygments_lexer": "ipython3",
   "version": "3.8.5"
  }
 },
 "nbformat": 4,
 "nbformat_minor": 5
}
