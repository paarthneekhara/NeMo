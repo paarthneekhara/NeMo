{
 "cells": [
  {
   "cell_type": "code",
   "execution_count": null,
   "id": "6a8059a1",
   "metadata": {},
   "outputs": [],
   "source": [
    "from ipywebrtc import AudioRecorder, CameraStream\n",
    "import os\n",
    "import torchaudio\n",
    "import librosa"
   ]
  },
  {
   "cell_type": "code",
   "execution_count": null,
   "id": "43124792",
   "metadata": {},
   "outputs": [],
   "source": [
    "data_dir = \"/home/pneekhara/Scratch/\"\n",
    "audio_dir = os.path.join(data_dir, \"wavs\")\n",
    "filelist_path = os.path.join(data_dir, \"custom_recordings.json\")"
   ]
  },
  {
   "cell_type": "code",
   "execution_count": null,
   "id": "651e6ea2",
   "metadata": {},
   "outputs": [],
   "source": [
    "from IPython.display import Audio\n"
   ]
  },
  {
   "cell_type": "code",
   "execution_count": null,
   "id": "390828dd",
   "metadata": {},
   "outputs": [],
   "source": [
    "camera = CameraStream(constraints={'audio': True,'video':False})\n",
    "recorder = AudioRecorder(stream=camera)\n",
    "recorder"
   ]
  },
  {
   "cell_type": "code",
   "execution_count": null,
   "id": "7333b272",
   "metadata": {},
   "outputs": [],
   "source": [
    "recorder"
   ]
  },
  {
   "cell_type": "code",
   "execution_count": null,
   "id": "d61e3643",
   "metadata": {},
   "outputs": [],
   "source": []
  },
  {
   "cell_type": "code",
   "execution_count": null,
   "id": "800c9c8b",
   "metadata": {},
   "outputs": [],
   "source": [
    "recorders = []\n",
    "for i in range(2):\n",
    "    print (i, \"this is a test sentence.\")\n",
    "    recorder = AudioRecorder(stream=camera)\n",
    "    ipd.display(recorder)\n",
    "    recorders.append(recorder)\n",
    "  "
   ]
  },
  {
   "cell_type": "code",
   "execution_count": null,
   "id": "bbbb6871",
   "metadata": {},
   "outputs": [],
   "source": [
    "import os\n",
    "if not os.path.exists(audio_dir):\n",
    "    os.makedirs(audio_dir)\n",
    "\n",
    "    \n",
    "from scipy.io.wavfile import read as spwavread, write as spwavwrite\n",
    "\n",
    "def resample_audio(wf, sr=44100):\n",
    "    outf = wf\n",
    "    wav, _ = librosa.core.load(wf, sr=sr)\n",
    "    wav *= 32768.\n",
    "    wav = np.clip(wav, -32768., 32767.)\n",
    "    wav = wav.astype(np.int16)\n",
    "    spwavwrite(outf, sr, wav)\n",
    "\n",
    "for ridx, recorder in enumerate(recorders):\n",
    "    with open('recording.webm', 'wb') as f:\n",
    "        f.write(recorder.audio.value)\n",
    "    audio_path = os.path.join(audio_dir, \"{}.wav\".format(ridx))\n",
    "    !ffmpeg -i recording.webm -ac 1 -f wav $audio_path -y -hide_banner -loglevel panic\n",
    "    sig, sr = librosa.load(audio_path, sr=44100)\n",
    "    print(sig.shape)\n",
    "    Audio(data=sig, rate=sr)"
   ]
  },
  {
   "cell_type": "code",
   "execution_count": null,
   "id": "863fb3b1",
   "metadata": {},
   "outputs": [],
   "source": [
    "print(sig)"
   ]
  },
  {
   "cell_type": "code",
   "execution_count": null,
   "id": "40229a09",
   "metadata": {},
   "outputs": [],
   "source": []
  }
 ],
 "metadata": {
  "kernelspec": {
   "display_name": "nemoenv",
   "language": "python",
   "name": "nemoenv"
  },
  "language_info": {
   "codemirror_mode": {
    "name": "ipython",
    "version": 3
   },
   "file_extension": ".py",
   "mimetype": "text/x-python",
   "name": "python",
   "nbconvert_exporter": "python",
   "pygments_lexer": "ipython3",
   "version": "3.8.5"
  }
 },
 "nbformat": 4,
 "nbformat_minor": 5
}
