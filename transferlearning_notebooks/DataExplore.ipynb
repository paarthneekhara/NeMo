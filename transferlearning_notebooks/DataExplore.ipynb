{
 "cells": [
  {
   "cell_type": "code",
   "execution_count": null,
   "id": "149df46f",
   "metadata": {},
   "outputs": [],
   "source": [
    "import os\n",
    "import json\n",
    "import IPython.display as ipd\n",
    "import librosa\n",
    "\n",
    "\n",
    "\n",
    "def play_audio(speaker_id, clean_other, split=\"dev\"):\n",
    "    data_dir = \"/home/pneekhara/Datasets/78419/Hi_Fi_TTS_v_0_backup\"\n",
    "    manifest_path = os.path.join(data_dir, \"{}_manifest_{}_{}.json\".format(speaker_id, clean_other, split))\n",
    "    with open(manifest_path, \"r\") as f:\n",
    "        for i, line in enumerate(f):\n",
    "            record = json.loads(line)\n",
    "            print(record)\n",
    "            audio_path = os.path.join( data_dir, record['audio_filepath'] )\n",
    "            audio, sr = librosa.load(audio_path, sr=None)\n",
    "            ipd.display(ipd.Audio(audio, rate=44100))\n",
    "            if i > 5:\n",
    "                break"
   ]
  },
  {
   "cell_type": "code",
   "execution_count": null,
   "id": "1311095f",
   "metadata": {},
   "outputs": [],
   "source": [
    "play_audio(8051, \"clean\", \"dev\")"
   ]
  },
  {
   "cell_type": "code",
   "execution_count": null,
   "id": "fb5a3551",
   "metadata": {},
   "outputs": [],
   "source": [
    "play_audio(8051, \"clean\")"
   ]
  },
  {
   "cell_type": "code",
   "execution_count": null,
   "id": "d83d78cf",
   "metadata": {},
   "outputs": [],
   "source": [
    "manifest_files = {\n",
    "#     92 : [\"/home/pneekhara/Datasets/78419/Hi_Fi_TTS_v_0_backup/92_manifest_clean_train.json\"],\n",
    "#     6097 : [\"/home/pneekhara/Datasets/78419/Hi_Fi_TTS_v_0_backup/6097_manifest_clean_train.json\"],\n",
    "    \"Jon\" : [\"/home/pneekhara/JonData/train_list.txt\"]\n",
    "}"
   ]
  },
  {
   "cell_type": "code",
   "execution_count": null,
   "id": "c437923b",
   "metadata": {},
   "outputs": [],
   "source": [
    "from pathlib import Path\n",
    "import json\n",
    "import librosa\n",
    "import numpy as np\n",
    "from tqdm import tqdm\n",
    "from multiprocessing import Pool\n",
    "\n",
    "data_dir = \"\"\n",
    "num_samples = 1000\n",
    "\n",
    "def find_pitch_from_audio(wav_file):\n",
    "    audio, sr = librosa.load(wav_file, sr=None)\n",
    "    pitch, _, _ = librosa.pyin(audio, fmin=30, fmax=512, frame_length=1024, sr=sr, fill_na=0.0)\n",
    "    return pitch[pitch != 0.0]\n",
    "    \n",
    "for speaker in manifest_files:\n",
    "    print (speaker)\n",
    "    all_pitch = []\n",
    "    wav_files = []\n",
    "    for json_f in manifest_files[speaker]:\n",
    "        print (json_f)\n",
    "        with open(json_f, \"r\") as f:\n",
    "            \n",
    "            for i, line in enumerate(tqdm(f.read().split(\"\\n\"))):\n",
    "                if len(line) > 0:\n",
    "                    line = json.loads(line)\n",
    "                    wav_file = os.path.join( data_dir, line[\"audio_filepath\"] )\n",
    "                    wav_files.append(wav_file)\n",
    "    with Pool(10) as p:\n",
    "        all_pitches = p.map(find_pitch_from_audio, wav_files[:num_samples])\n",
    "    all_pitch = np.concatenate(all_pitches)\n",
    "    \n",
    "    print(f\"mean: {np.mean(all_pitch)}\", speaker)\n",
    "    print(f\"std: {np.std(all_pitch)}\", speaker)"
   ]
  },
  {
   "cell_type": "code",
   "execution_count": null,
   "id": "424a247f",
   "metadata": {},
   "outputs": [],
   "source": [
    "print (1)"
   ]
  },
  {
   "cell_type": "code",
   "execution_count": null,
   "id": "8e5f2e52",
   "metadata": {},
   "outputs": [],
   "source": [
    "def generate_ngc_training_command():\n",
    "    command_str = ' ngc batch run --name \"ml-model.fastpitch_align\" --image \"nvidia/pytorch:21.03-py3\" --ace nv-us-west-2 --instance dgx1v.32g.8.norm --result /results/'\n",
    "    command_str += '--datasetid 78109:/HiFi8051 --workspace pneekhara-workspace:/mnt/'"
   ]
  },
  {
   "cell_type": "code",
   "execution_count": null,
   "id": "7aee5b68",
   "metadata": {},
   "outputs": [],
   "source": [
    "mean: 214.32825973166476\n",
    "std: 30.922863159682226\n",
    "\n",
    "mean: 161.71734193655882\n",
    "std: 36.34714766665941"
   ]
  },
  {
   "cell_type": "code",
   "execution_count": null,
   "id": "00b7b16f",
   "metadata": {},
   "outputs": [],
   "source": [
    "b"
   ]
  },
  {
   "cell_type": "code",
   "execution_count": null,
   "id": "52c080eb",
   "metadata": {},
   "outputs": [],
   "source": [
    "speaker_id = 11697\n",
    "run_name = \"FastPitchAlign{}\".format(speaker_id)\n",
    "clean_other = \"clean\"\n",
    "command_str = f'''ngc batch run --name \"{run_name}\" --image \"nvidia/pytorch:21.03-py3\" --ace nv-us-west-2 --instance dgx1v.32g.8.norm --result /results/ --datasetid 78419:/HiFiDataset --workspace pneekhara-workspace:/mnt/ --commandline \"cd /raid/ && cp -r /HiFiDataset/ /raid/ && tar -xzf /raid/HiFiDataset/hi_fi_tts_dataset.tar.gz -C /raid/HiFiDataset && sed -i 's@wav/@/raid/HiFiDataset/Hi_Fi_TTS_v_0/wav/@g' /raid/HiFiDataset/Hi_Fi_TTS_v_0/{speaker_id}_manifest_{clean_other}_train.json && sed -i 's@wav/@/raid/HiFiDataset/Hi_Fi_TTS_v_0/wav/@g' /raid/HiFiDataset/Hi_Fi_TTS_v_0/{speaker_id}_manifest_{clean_other}_dev.json && cd /workspace/ && apt-get update && apt-get install -y libsndfile1 && git clone https://github.com/paarthneekhara/NeMo.git && cd NeMo && bash reinstall.sh && pip uninstall -y torchtext && work_dir_name=FastPitchAlign && HYDRA_FULL_ERROR=1 python examples/tts/fastpitch.py --config-name=fastpitch_align trainer.gpus=-1 exp_manager.exp_dir=/mnt/inprogress/\\${NGC_JOB_ID}_\\${work_dir_name} trainer.max_epochs=1000 train_dataset=/raid/HiFiDataset/Hi_Fi_TTS_v_0/{speaker_id}_manifest_{clean_other}_train.json validation_datasets=/raid/HiFiDataset/Hi_Fi_TTS_v_0/{speaker_id}_manifest_{clean_other}_dev.json trainer.check_val_every_n_epoch=50 prior_folder=/raid/HiFiDataset/Priors{speaker_id} && mv /mnt/inprogress/\\${NGC_JOB_ID}_\\${work_dir_name} /mnt/completed/\\${NGC_JOB_ID}_\\${work_dir_name}\"'''"
   ]
  },
  {
   "cell_type": "code",
   "execution_count": null,
   "id": "16e92d93",
   "metadata": {},
   "outputs": [],
   "source": [
    "import matplotlib.pyplot as plt\n",
    "from librosa.display import specshow\n",
    "import json\n",
    "import librosa\n",
    "import numpy as np\n",
    "\n",
    "val_manifest_file = \"/home/pneekhara/JonData/val_list.json\"\n",
    "with open(val_manifest_file) as f:\n",
    "    all_lines = f.read().split(\"\\n\")\n",
    "\n",
    "for fmin in [30]:\n",
    "    for fmax in [512]:\n",
    "        for line in all_lines:\n",
    "            record = json.loads(line)\n",
    "#             actual_key = \"real_actual_{}\".format(6097)\n",
    "            actual_wav_path = record['audio_filepath']\n",
    "            y,_ = librosa.load(actual_wav_path, sr=44100)\n",
    "            y = y[:5*44100]\n",
    "            f0, voiced_flag, voiced_probs = librosa.pyin(y, fmin=fmin, fmax=fmax)\n",
    "            times = librosa.times_like(f0)\n",
    "            print (fmin, fmax)\n",
    "            D = librosa.amplitude_to_db(np.abs(librosa.stft(y)), ref=np.max)\n",
    "            fig, ax = plt.subplots()\n",
    "            img = specshow(D, x_axis='time', y_axis='log', ax=ax)\n",
    "            ax.set(title='pYIN fundamental frequency estimation')\n",
    "            fig.colorbar(img, ax=ax, format=\"%+2.f dB\")\n",
    "            ax.plot(times, f0, label='f0', color='cyan', linewidth=3)\n",
    "            ax.legend(loc='upper right')\n",
    "            plt.show()\n"
   ]
  },
  {
   "cell_type": "code",
   "execution_count": null,
   "id": "59c05b94",
   "metadata": {},
   "outputs": [],
   "source": []
  }
 ],
 "metadata": {
  "kernelspec": {
   "display_name": "nemoenv",
   "language": "python",
   "name": "nemoenv"
  },
  "language_info": {
   "codemirror_mode": {
    "name": "ipython",
    "version": 3
   },
   "file_extension": ".py",
   "mimetype": "text/x-python",
   "name": "python",
   "nbconvert_exporter": "python",
   "pygments_lexer": "ipython3",
   "version": "3.8.5"
  }
 },
 "nbformat": 4,
 "nbformat_minor": 5
}
